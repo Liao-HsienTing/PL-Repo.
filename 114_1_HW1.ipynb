{
  "nbformat": 4,
  "nbformat_minor": 0,
  "metadata": {
    "colab": {
      "provenance": [],
      "authorship_tag": "ABX9TyPzd4Wi6SB0MDkBWXuWLB35",
      "include_colab_link": true
    },
    "kernelspec": {
      "name": "python3",
      "display_name": "Python 3"
    },
    "language_info": {
      "name": "python"
    }
  },
  "cells": [
    {
      "cell_type": "markdown",
      "metadata": {
        "id": "view-in-github",
        "colab_type": "text"
      },
      "source": [
        "<a href=\"https://colab.research.google.com/github/Liao-HsienTing/PL-Repo./blob/main/114_1_HW1.ipynb\" target=\"_parent\"><img src=\"https://colab.research.google.com/assets/colab-badge.svg\" alt=\"Open In Colab\"/></a>"
      ]
    },
    {
      "cell_type": "markdown",
      "source": [
        "日常支出速算與分攤（作業一）\n",
        "目標：從 Sheet 讀「消費紀錄」→ 計總額/分類小計/AA 分攤 → 寫回 Sheet Summary 分頁。\n",
        "AI 點子（可選）：請模型總結本週花錢習慣與建議（例如「外食過多」）。\n",
        "Sheet 欄位：date, category, item, amount, payer\n",
        "\n",
        "google sheet：https://docs.google.com/spreadsheets/d/1Blu5BFuKKoRPwLRxnv1sN7MTorHqLjKS0hXLjbIk-Nw/edit?usp=sharing"
      ],
      "metadata": {
        "id": "bkPPPppZhMtO"
      }
    },
    {
      "cell_type": "code",
      "source": [
        "from google.colab import auth\n",
        "auth.authenticate_user()\n",
        "\n",
        "import gspread\n",
        "from google.auth import default\n",
        "creds, _ = default()\n",
        "\n",
        "gc = gspread.authorize(creds)"
      ],
      "metadata": {
        "id": "1YmmORI5hH0m"
      },
      "execution_count": 59,
      "outputs": []
    },
    {
      "cell_type": "code",
      "source": [
        "import pandas as pd\n",
        "# 在 google 工作表載入 gsheets\n",
        "gsheets = gc.open_by_url('https://docs.google.com/spreadsheets/d/1Blu5BFuKKoRPwLRxnv1sN7MTorHqLjKS0hXLjbIk-Nw/edit?usp=sharing')"
      ],
      "metadata": {
        "id": "98gfKwidhekN"
      },
      "execution_count": 60,
      "outputs": []
    },
    {
      "cell_type": "code",
      "source": [
        "# 從 gsheets 的 All-whiteboard-device 載入 sheets\n",
        "sheets = gsheets.worksheet('工作表1').get_all_values()\n",
        "# 將 sheets1 資料載入 pd 的 DataFrame 進行分析\n",
        "df = pd.DataFrame(sheets[1:], columns=sheets[0])\n",
        "# 取得最前面的資料\n",
        "df.head()"
      ],
      "metadata": {
        "colab": {
          "base_uri": "https://localhost:8080/",
          "height": 81
        },
        "id": "D6h4-seJhsA3",
        "outputId": "33e74fab-3a89-41dc-bd8c-5ad8ab8d36bd"
      },
      "execution_count": 61,
      "outputs": [
        {
          "output_type": "execute_result",
          "data": {
            "text/plain": [
              "           日期     時間   項目    金額 付款方式\n",
              "0  2000-02-02  02:02  djd  3000     "
            ],
            "text/html": [
              "\n",
              "  <div id=\"df-a75de9bd-9dad-48c1-9daf-99bc6ba4becc\" class=\"colab-df-container\">\n",
              "    <div>\n",
              "<style scoped>\n",
              "    .dataframe tbody tr th:only-of-type {\n",
              "        vertical-align: middle;\n",
              "    }\n",
              "\n",
              "    .dataframe tbody tr th {\n",
              "        vertical-align: top;\n",
              "    }\n",
              "\n",
              "    .dataframe thead th {\n",
              "        text-align: right;\n",
              "    }\n",
              "</style>\n",
              "<table border=\"1\" class=\"dataframe\">\n",
              "  <thead>\n",
              "    <tr style=\"text-align: right;\">\n",
              "      <th></th>\n",
              "      <th>日期</th>\n",
              "      <th>時間</th>\n",
              "      <th>項目</th>\n",
              "      <th>金額</th>\n",
              "      <th>付款方式</th>\n",
              "    </tr>\n",
              "  </thead>\n",
              "  <tbody>\n",
              "    <tr>\n",
              "      <th>0</th>\n",
              "      <td>2000-02-02</td>\n",
              "      <td>02:02</td>\n",
              "      <td>djd</td>\n",
              "      <td>3000</td>\n",
              "      <td></td>\n",
              "    </tr>\n",
              "  </tbody>\n",
              "</table>\n",
              "</div>\n",
              "    <div class=\"colab-df-buttons\">\n",
              "\n",
              "  <div class=\"colab-df-container\">\n",
              "    <button class=\"colab-df-convert\" onclick=\"convertToInteractive('df-a75de9bd-9dad-48c1-9daf-99bc6ba4becc')\"\n",
              "            title=\"Convert this dataframe to an interactive table.\"\n",
              "            style=\"display:none;\">\n",
              "\n",
              "  <svg xmlns=\"http://www.w3.org/2000/svg\" height=\"24px\" viewBox=\"0 -960 960 960\">\n",
              "    <path d=\"M120-120v-720h720v720H120Zm60-500h600v-160H180v160Zm220 220h160v-160H400v160Zm0 220h160v-160H400v160ZM180-400h160v-160H180v160Zm440 0h160v-160H620v160ZM180-180h160v-160H180v160Zm440 0h160v-160H620v160Z\"/>\n",
              "  </svg>\n",
              "    </button>\n",
              "\n",
              "  <style>\n",
              "    .colab-df-container {\n",
              "      display:flex;\n",
              "      gap: 12px;\n",
              "    }\n",
              "\n",
              "    .colab-df-convert {\n",
              "      background-color: #E8F0FE;\n",
              "      border: none;\n",
              "      border-radius: 50%;\n",
              "      cursor: pointer;\n",
              "      display: none;\n",
              "      fill: #1967D2;\n",
              "      height: 32px;\n",
              "      padding: 0 0 0 0;\n",
              "      width: 32px;\n",
              "    }\n",
              "\n",
              "    .colab-df-convert:hover {\n",
              "      background-color: #E2EBFA;\n",
              "      box-shadow: 0px 1px 2px rgba(60, 64, 67, 0.3), 0px 1px 3px 1px rgba(60, 64, 67, 0.15);\n",
              "      fill: #174EA6;\n",
              "    }\n",
              "\n",
              "    .colab-df-buttons div {\n",
              "      margin-bottom: 4px;\n",
              "    }\n",
              "\n",
              "    [theme=dark] .colab-df-convert {\n",
              "      background-color: #3B4455;\n",
              "      fill: #D2E3FC;\n",
              "    }\n",
              "\n",
              "    [theme=dark] .colab-df-convert:hover {\n",
              "      background-color: #434B5C;\n",
              "      box-shadow: 0px 1px 3px 1px rgba(0, 0, 0, 0.15);\n",
              "      filter: drop-shadow(0px 1px 2px rgba(0, 0, 0, 0.3));\n",
              "      fill: #FFFFFF;\n",
              "    }\n",
              "  </style>\n",
              "\n",
              "    <script>\n",
              "      const buttonEl =\n",
              "        document.querySelector('#df-a75de9bd-9dad-48c1-9daf-99bc6ba4becc button.colab-df-convert');\n",
              "      buttonEl.style.display =\n",
              "        google.colab.kernel.accessAllowed ? 'block' : 'none';\n",
              "\n",
              "      async function convertToInteractive(key) {\n",
              "        const element = document.querySelector('#df-a75de9bd-9dad-48c1-9daf-99bc6ba4becc');\n",
              "        const dataTable =\n",
              "          await google.colab.kernel.invokeFunction('convertToInteractive',\n",
              "                                                    [key], {});\n",
              "        if (!dataTable) return;\n",
              "\n",
              "        const docLinkHtml = 'Like what you see? Visit the ' +\n",
              "          '<a target=\"_blank\" href=https://colab.research.google.com/notebooks/data_table.ipynb>data table notebook</a>'\n",
              "          + ' to learn more about interactive tables.';\n",
              "        element.innerHTML = '';\n",
              "        dataTable['output_type'] = 'display_data';\n",
              "        await google.colab.output.renderOutput(dataTable, element);\n",
              "        const docLink = document.createElement('div');\n",
              "        docLink.innerHTML = docLinkHtml;\n",
              "        element.appendChild(docLink);\n",
              "      }\n",
              "    </script>\n",
              "  </div>\n",
              "\n",
              "\n",
              "    </div>\n",
              "  </div>\n"
            ],
            "application/vnd.google.colaboratory.intrinsic+json": {
              "type": "dataframe",
              "variable_name": "df",
              "summary": "{\n  \"name\": \"df\",\n  \"rows\": 1,\n  \"fields\": [\n    {\n      \"column\": \"\\u65e5\\u671f\",\n      \"properties\": {\n        \"dtype\": \"object\",\n        \"num_unique_values\": 1,\n        \"samples\": [\n          \"2000-02-02\"\n        ],\n        \"semantic_type\": \"\",\n        \"description\": \"\"\n      }\n    },\n    {\n      \"column\": \"\\u6642\\u9593\",\n      \"properties\": {\n        \"dtype\": \"object\",\n        \"num_unique_values\": 1,\n        \"samples\": [\n          \"02:02\"\n        ],\n        \"semantic_type\": \"\",\n        \"description\": \"\"\n      }\n    },\n    {\n      \"column\": \"\\u9805\\u76ee\",\n      \"properties\": {\n        \"dtype\": \"string\",\n        \"num_unique_values\": 1,\n        \"samples\": [\n          \"djd\"\n        ],\n        \"semantic_type\": \"\",\n        \"description\": \"\"\n      }\n    },\n    {\n      \"column\": \"\\u91d1\\u984d\",\n      \"properties\": {\n        \"dtype\": \"string\",\n        \"num_unique_values\": 1,\n        \"samples\": [\n          \"3000\"\n        ],\n        \"semantic_type\": \"\",\n        \"description\": \"\"\n      }\n    },\n    {\n      \"column\": \"\\u4ed8\\u6b3e\\u65b9\\u5f0f\",\n      \"properties\": {\n        \"dtype\": \"object\",\n        \"num_unique_values\": 1,\n        \"samples\": [\n          \"\"\n        ],\n        \"semantic_type\": \"\",\n        \"description\": \"\"\n      }\n    }\n  ]\n}"
            }
          },
          "metadata": {},
          "execution_count": 61
        }
      ]
    },
    {
      "cell_type": "code",
      "source": [
        "from google.colab import auth\n",
        "import gspread\n",
        "from google.auth import default\n",
        "from datetime import datetime\n",
        "\n",
        "# 步驟 1: 進行 Google 驗證並連接到試算表\n",
        "auth.authenticate_user()\n",
        "creds, _ = default()\n",
        "gc = gspread.authorize(creds)\n",
        "gsheets = gc.open_by_url('https://docs.google.com/spreadsheets/d/1Blu5BFuKKoRPwLRxnv1sN7MTorHqLjKS0hXLjbIk-Nw/edit?usp=sharing')\n",
        "\n",
        "# 步驟 2: 取得特定的工作表 (Worksheet)\n",
        "worksheet = gsheets.sheet1  # 或者使用 gsheets.worksheet('工作表名稱')\n",
        "\n",
        "print(\"--- 輸入資料 ---\")\n",
        "\n",
        "# 步驟 3: 獲取使用者輸入並進行驗證\n",
        "while True:\n",
        "    date_str = input(\"請輸入日期 (格式：YYYY-MM-DD)：\")\n",
        "    try:\n",
        "        datetime.strptime(date_str, '%Y-%m-%d')\n",
        "        break\n",
        "    except ValueError:\n",
        "        print(\"日期格式不正確，請重新輸入。\")\n",
        "\n",
        "while True:\n",
        "    time_str = input(\"請輸入時間 (格式：HH:MM)：\")\n",
        "    try:\n",
        "        datetime.strptime(time_str, '%H:%M')\n",
        "        break\n",
        "    except ValueError:\n",
        "        print(\"時間格式不正確，請重新輸入。\")\n",
        "\n",
        "while True:\n",
        "    item_str = input(\"請輸入項目：\")\n",
        "    if item_str.strip() == \"\":\n",
        "        print(\"項目不能為空，請重新輸入。\")\n",
        "    else:\n",
        "        break\n",
        "\n",
        "while True:\n",
        "    amount_str = input(\"請輸入金額 (必須是數字)：\")\n",
        "    try:\n",
        "        amount_float = float(amount_str)\n",
        "        break\n",
        "    except ValueError:\n",
        "        print(\"金額格式不正確，請重新輸入數字。\")\n",
        "\n",
        "# 新增「付款方式」輸入欄位\n",
        "payment_method = input(\"請輸入付款方式：\")\n",
        "\n",
        "# 步驟 4: 將驗證後的資料組合成一行清單\n",
        "# 請確保您的 Google Sheet 欄位順序與此清單順序一致\n",
        "new_row = [date_str, time_str, item_str, amount_float, payment_method]\n",
        "\n",
        "print(\"\\n--- 資料驗證成功 ---\")\n",
        "print(f\"輸入的資料為：{new_row}\")\n",
        "\n",
        "# 步驟 5: 附加新資料到 Google 試算表\n",
        "try:\n",
        "    worksheet.append_rows([new_row])\n",
        "    print(\"\\n✅ 資料已成功寫入 Google 試算表！\")\n",
        "except Exception as e:\n",
        "    print(f\"\\n寫入資料時發生錯誤：{e}\")"
      ],
      "metadata": {
        "colab": {
          "base_uri": "https://localhost:8080/"
        },
        "id": "9C2sUZxHkeyK",
        "outputId": "3b1679d6-2164-486a-f786-935c9be8c9d1"
      },
      "execution_count": 63,
      "outputs": [
        {
          "output_type": "stream",
          "name": "stdout",
          "text": [
            "--- 輸入資料 ---\n",
            "請輸入日期 (格式：YYYY-MM-DD)：2020-04-04\n",
            "請輸入時間 (格式：HH:MM)：07:07\n",
            "請輸入項目：huids\n",
            "請輸入金額 (必須是數字)：3000\n",
            "請輸入付款方式：現金\n",
            "\n",
            "--- 資料驗證成功 ---\n",
            "輸入的資料為：['2020-04-04', '07:07', 'huids', 3000.0, '現金']\n",
            "\n",
            "✅ 資料已成功寫入 Google 試算表！\n"
          ]
        }
      ]
    },
    {
      "cell_type": "code",
      "source": [
        "try:\n",
        "    # 讀取試算表中所有的記錄，包含標頭列\n",
        "    existing_data = worksheet.get_all_records()\n",
        "\n",
        "    # 將讀取的資料轉換為 Pandas DataFrame\n",
        "    df = pd.DataFrame(existing_data)\n",
        "\n",
        "    # 檢查 DataFrame 是否為空\n",
        "    if df.empty:\n",
        "        print(\"試算表中沒有任何記錄，無法計算總計。\")\n",
        "    else:\n",
        "        # 確保「金額」欄位是數字類型，如果不是，嘗試轉換\n",
        "        if '金額' in df.columns:\n",
        "            df['金額'] = pd.to_numeric(df['金額'], errors='coerce')\n",
        "\n",
        "            # 確保「付款方式」欄位存在\n",
        "            if '付款方式' in df.columns:\n",
        "                # 依據「付款方式」分組，計算「金額」的總和\n",
        "                payment_summary = df.groupby('付款方式')['金額'].sum()\n",
        "\n",
        "                # ---- 修改列印結果的部分 ----\n",
        "                print(\"\\n--- 各付款方式的總計金額 ---\")\n",
        "                if payment_summary.empty:\n",
        "                    print(\"沒有有效的金額可供加總。\")\n",
        "                else:\n",
        "                    # 遍歷分組加總的結果並逐一列印\n",
        "                    for payment_method, total_amount in payment_summary.items():\n",
        "                        # 檢查是否有 NaN 值，如果有則跳過或顯示為 0\n",
        "                        if pd.isna(total_amount):\n",
        "                            print(f\"{payment_method}: 0 (無效金額)\")\n",
        "                        else:\n",
        "                            # 您可以選擇性地格式化金額，例如加上貨幣符號或小數點\n",
        "                            print(f\"{payment_method}: {total_amount:,.0f}\") # : ,.0f 格式化為整數並加上千分位逗號\n",
        "                # ----------------------------\n",
        "\n",
        "            else:\n",
        "                print(\"試算表中未找到「付款方式」欄位。\")\n",
        "        else:\n",
        "            print(\"試算表中未找到「金額」欄位。\")\n",
        "\n",
        "except Exception as e:\n",
        "    print(f\"讀取或計算總計時發生錯誤：{e}\")"
      ],
      "metadata": {
        "colab": {
          "base_uri": "https://localhost:8080/"
        },
        "id": "KU09cMV3vBSo",
        "outputId": "b45c513f-11cb-4302-f94e-8f234da48a29"
      },
      "execution_count": 65,
      "outputs": [
        {
          "output_type": "stream",
          "name": "stdout",
          "text": [
            "\n",
            "--- 各付款方式的總計金額 ---\n",
            "line pay: 20\n",
            "信用卡: 3,000\n",
            "現金: 3,300\n"
          ]
        }
      ]
    }
  ]
}