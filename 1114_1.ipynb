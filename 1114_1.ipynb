{
  "nbformat": 4,
  "nbformat_minor": 0,
  "metadata": {
    "colab": {
      "provenance": [],
      "authorship_tag": "ABX9TyM9nPMXpsI82tCi9eg1f5lq",
      "include_colab_link": true
    },
    "kernelspec": {
      "name": "python3",
      "display_name": "Python 3"
    },
    "language_info": {
      "name": "python"
    }
  },
  "cells": [
    {
      "cell_type": "markdown",
      "metadata": {
        "id": "view-in-github",
        "colab_type": "text"
      },
      "source": [
        "<a href=\"https://colab.research.google.com/github/Liao-HsienTing/PL-Repo./blob/main/1114_1.ipynb\" target=\"_parent\"><img src=\"https://colab.research.google.com/assets/colab-badge.svg\" alt=\"Open In Colab\"/></a>"
      ]
    },
    {
      "cell_type": "code",
      "execution_count": 1,
      "metadata": {
        "id": "tcE_U0GOYTmk"
      },
      "outputs": [],
      "source": [
        "# 日常支出速算與分攤（作業一）\n",
        "# 目標：從 Sheet 讀「消費紀錄」→ 計總額/分類小計/AA 分攤 → 寫回 Sheet Summary 分頁。\n",
        "# AI 點子（可選）：請模型總結本週花錢習慣與建議（例如「外食過多」）。\n",
        "# Sheet 欄位：date, category, item, amount, payer"
      ]
    }
  ]
}